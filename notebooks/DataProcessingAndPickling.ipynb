{
  "nbformat": 4,
  "nbformat_minor": 0,
  "metadata": {
    "colab": {
      "name": "DataProcessingAndPickling.ipynb",
      "provenance": [],
      "collapsed_sections": []
    },
    "kernelspec": {
      "name": "python3",
      "display_name": "Python 3"
    }
  },
  "cells": [
    {
      "cell_type": "code",
      "metadata": {
        "id": "XUxUhKTz6LNG",
        "colab_type": "code",
        "colab": {
          "base_uri": "https://localhost:8080/",
          "height": 139
        },
        "outputId": "23368583-404c-4167-d776-d3d13819284b"
      },
      "source": [
        "from google.colab import drive\n",
        "drive.mount('/content/drive')\n",
        "%cd drive/My Drive/AA_PROJ_2"
      ],
      "execution_count": null,
      "outputs": [
        {
          "output_type": "stream",
          "text": [
            "Go to this URL in a browser: https://accounts.google.com/o/oauth2/auth?client_id=947318989803-6bn6qk8qdgf4n4g3pfee6491hc0brc4i.apps.googleusercontent.com&redirect_uri=urn%3aietf%3awg%3aoauth%3a2.0%3aoob&response_type=code&scope=email%20https%3a%2f%2fwww.googleapis.com%2fauth%2fdocs.test%20https%3a%2f%2fwww.googleapis.com%2fauth%2fdrive%20https%3a%2f%2fwww.googleapis.com%2fauth%2fdrive.photos.readonly%20https%3a%2f%2fwww.googleapis.com%2fauth%2fpeopleapi.readonly\n",
            "\n",
            "Enter your authorization code:\n",
            "··········\n",
            "Mounted at /content/drive\n",
            "/content/drive/My Drive/AA_PROJ_2\n"
          ],
          "name": "stdout"
        }
      ]
    },
    {
      "cell_type": "code",
      "metadata": {
        "id": "tq68mO0s9lzD",
        "colab_type": "code",
        "colab": {}
      },
      "source": [
        "import pandas as pd\n",
        "import os\n",
        "import re\n",
        "from tqdm import tqdm\n",
        "import pickle\n",
        "import numpy as np\n",
        "import librosa\n"
      ],
      "execution_count": null,
      "outputs": []
    },
    {
      "cell_type": "code",
      "metadata": {
        "id": "KY5n9EWN7VZp",
        "colab_type": "code",
        "colab": {}
      },
      "source": [
        "tracks = pd.read_csv(\"data/FMA/FMA/fma_metadata/tracks.csv\", index_col=0, header=[0, 1])\n",
        "tracks.head()"
      ],
      "execution_count": null,
      "outputs": []
    },
    {
      "cell_type": "code",
      "metadata": {
        "id": "zsQ4Qhu58Yeu",
        "colab_type": "code",
        "colab": {}
      },
      "source": [
        "tracksFiltered = tracks[[('set', 'split'),('set', 'subset'),('track', 'genre_top'), ('track', 'genres')]]\n",
        "isSmallData = tracksFiltered[('set', 'subset')] == 'small' "
      ],
      "execution_count": null,
      "outputs": []
    },
    {
      "cell_type": "code",
      "metadata": {
        "id": "dRAgW1T38h1T",
        "colab_type": "code",
        "colab": {}
      },
      "source": [
        "genreNamesDF = pd.read_csv(\"data/FMA/FMA/fma_metadata/genres.csv\", index_col=0, header=0)\n",
        "genreDict = genreNamesDF[\"title\"].squeeze().to_dict()"
      ],
      "execution_count": null,
      "outputs": []
    },
    {
      "cell_type": "code",
      "metadata": {
        "id": "nPBf_idv8shM",
        "colab_type": "code",
        "colab": {}
      },
      "source": [
        "filelist =[]\n",
        "for root, dirs, files in os.walk(\"data/FMA/FMA/fma_small\"):\n",
        "\tfor file in files:\n",
        "\t\tfilelist.append(os.path.join(root,file))\n",
        "\t\n",
        "regex = re.compile(r'data\\/FMA\\/FMA\\/fma_small\\/\\d{3}\\/\\d+.mp3')\n",
        "filelist_filtered = list(filter(regex.search, filelist))\n",
        "\n",
        "smallDataset.loc[id][('track', 'genre_top')]"
      ],
      "execution_count": null,
      "outputs": []
    },
    {
      "cell_type": "code",
      "metadata": {
        "id": "nrEei6uV9vmM",
        "colab_type": "code",
        "colab": {}
      },
      "source": [
        "#------Waveform-------\n",
        "wf_x_train = []\n",
        "wf_x_test = []\n",
        "wf_x_valid = []\n",
        "\n",
        "#------Spectrogram-------\n",
        "sp_x_train = []\n",
        "sp_x_test = []\n",
        "sp_x_valid = []\n",
        "\n",
        "\n",
        "#label \n",
        "\n",
        "y =[]\n",
        "\n",
        "number=0\n",
        "\n",
        "smallDataset = tracksFiltered[isSmallData][[('set', 'split'),('set', 'subset'),('track', 'genre_top')]]\n",
        "for fileName in tqdm(filelist_filtered[3000:]):\n",
        "\n",
        "  number = number +1\n",
        "  id = int(re.compile(r'\\d+(?=.mp3)').search(fileName).group())\n",
        "  print(fileName)\n",
        "  try:\n",
        "    wf_train, sr_train = librosa.load(fileName, offset=0, duration=9)\n",
        "    wf_test, sr_test = librosa.load(fileName, offset=9, duration=9)\n",
        "    wf_valid, sr_valid = librosa.load(fileName, offset=18, duration=9)\n",
        "\n",
        "    sp_train = librosa.feature.melspectrogram(y=wf_train, sr=sr_train)\n",
        "    sp_test = librosa.feature.melspectrogram(y=wf_test, sr=sr_test)\n",
        "    sp_valid = librosa.feature.melspectrogram(y=wf_valid, sr=sr_valid)\n",
        "\n",
        "    isWaveformValid = wf_train.shape[0] == 198450 and wf_test.shape[0] == 198450 and wf_valid.shape[0] == 198450\n",
        "    isSpectrogramValid = sp_train.shape == (128, 388) and sp_test.shape == (128, 388) and sp_valid.shape == (128, 388)\n",
        "\n",
        "\n",
        "    if(isWaveformValid and isSpectrogramValid): \n",
        "      #**************************************************************\n",
        "      #*                        Waveforms                           *\n",
        "      #**************************************************************\n",
        "\n",
        "      # ---- waveform_train----\n",
        "      wf_x_train.append(wf_train.reshape(-1,1))\n",
        "      \n",
        "      # ---- waveform_test-----\n",
        "      wf_x_test.append(wf_test.reshape(-1,1))\n",
        "\n",
        "      # ---- waveform_valid----\n",
        "      wf_x_valid.append(wf_valid.reshape(-1,1))\n",
        "\n",
        "\n",
        "\n",
        "      #**************************************************************\n",
        "      #*                        Spectrograms                        *\n",
        "      #**************************************************************\n",
        "\n",
        "      # ---- spectrogram_train----\n",
        "      sp_x_train.append(sp_train)\n",
        "      \n",
        "      # ---- spectrogram_test----\n",
        "      sp_x_test.append(sp_test)\n",
        "\n",
        "      # ---- spectrogram_valid----\n",
        "      sp_x_valid.append(sp_valid)\n",
        "\n",
        "\n",
        "      ## Label\n",
        "      y.append(smallDataset.loc[id][('track', 'genre_top')])\n",
        "  \n",
        "    if number == 1000:\n",
        "      print(\"dumping files\")\n",
        "      pickle_out = open(\"Pickled_Data/Final/SP/wf_x_train.pickle\",\"ab\") \n",
        "      pickle.dump(np.array(wf_x_train),pickle_out)\n",
        "      pickle_out.close()\n",
        "\n",
        "      pickle_out = open(\"Pickled_Data/Final/SP/wf_x_test.pickle\",\"ab\") \n",
        "      pickle.dump(np.array(wf_x_test),pickle_out)\n",
        "      pickle_out.close()\n",
        "\n",
        "      pickle_out = open(\"Pickled_Data/Final/SP/wf_x_valid.pickle\",\"ab\") \n",
        "      pickle.dump(np.array(wf_x_valid),pickle_out)\n",
        "      pickle_out.close()\n",
        "\n",
        "      pickle_out = open(\"Pickled_Data/Final/SP/sp_x_train.pickle\",\"ab\") \n",
        "      pickle.dump(np.array(sp_x_train),pickle_out)\n",
        "      pickle_out.close()\n",
        "\n",
        "      pickle_out = open(\"Pickled_Data/Final/SP/sp_x_test.pickle\",\"ab\") \n",
        "      pickle.dump(np.array(sp_x_test),pickle_out)\n",
        "      pickle_out.close()\n",
        "\n",
        "      pickle_out = open(\"Pickled_Data/Final/SP/sp_x_valid.pickle\",\"ab\") \n",
        "      pickle.dump(np.array(sp_x_valid),pickle_out)\n",
        "      pickle_out.close()\n",
        "\n",
        "      pickle_out = open(\"Pickled_Data/Final/SP/y.pickle\",\"ab\") \n",
        "      pickle.dump(np.array(y),pickle_out)\n",
        "      pickle_out.close()\n",
        "\n",
        "      #------Waveform-------\n",
        "      wf_x_train = []\n",
        "      wf_x_test = []\n",
        "      wf_x_valid = []\n",
        "      #------Spectrogram-------\n",
        "      sp_x_train = []\n",
        "      sp_x_test = []\n",
        "      sp_x_valid = []\n",
        "      #label \n",
        "      y =[]\n",
        "      number = 0\n",
        "    \n",
        "\n",
        "  except:\n",
        "    print(\"bad format\")"
      ],
      "execution_count": null,
      "outputs": []
    },
    {
      "cell_type": "code",
      "metadata": {
        "id": "vPciDn1yGO8q",
        "colab_type": "code",
        "colab": {}
      },
      "source": [
        "#------Waveform-------\n",
        "np_wf_x_train = np.array_split(np.array(wf_x_train), 10)\n",
        "\n",
        "np_wf_x_test = np.array_split(np.array(wf_x_test), 10)\n",
        "\n",
        "np_wf_x_valid = np.array_split(np.array(wf_x_valid), 10)\n",
        "\n",
        "#------Spectrogram-------\n",
        "np_sp_x_train = np.array_split(np.array(sp_x_train), 10)\n",
        "\n",
        "np_sp_x_test = np.array_split(np.array(sp_x_test), 10)\n",
        "\n",
        "np_sp_x_valid = np.array_split(np.array(sp_x_valid), 10)\n",
        "\n",
        "\n",
        "#------Label------------\n",
        "np_y = np.array_split(np.array(y), 10)"
      ],
      "execution_count": null,
      "outputs": []
    },
    {
      "cell_type": "code",
      "metadata": {
        "id": "oXfmpaJ6IfA6",
        "colab_type": "code",
        "colab": {}
      },
      "source": [
        "#------Waveform-------\n",
        "del wf_x_train \n",
        " \n",
        "del wf_x_test\n",
        " \n",
        "del wf_x_valid\n",
        " \n",
        " #------Spectrogram-------\n",
        "del sp_x_train\n",
        " \n",
        "del sp_x_test\n",
        " \n",
        "del sp_x_valid\n",
        "\n",
        "#------Label-------------\n",
        "\n",
        "del y"
      ],
      "execution_count": null,
      "outputs": []
    },
    {
      "cell_type": "markdown",
      "metadata": {
        "id": "ZcdWh2OzK2de",
        "colab_type": "text"
      },
      "source": [
        "#Pickle"
      ]
    },
    {
      "cell_type": "markdown",
      "metadata": {
        "id": "hznnU2SmK5o2",
        "colab_type": "text"
      },
      "source": [
        "WaveForm"
      ]
    },
    {
      "cell_type": "code",
      "metadata": {
        "id": "O_Yuse38H2fl",
        "colab_type": "code",
        "colab": {}
      },
      "source": [
        "pickle_out = open(\"Pickled_Data/Final/WF/np_wf_x_train.pickle\",\"wb\")\n",
        "for split in np_wf_x_train:\n",
        "  pickle.dump(split,pickle_out)\n",
        "pickle_out.close()\n"
      ],
      "execution_count": null,
      "outputs": []
    },
    {
      "cell_type": "code",
      "metadata": {
        "id": "OVKMFEPNJoFi",
        "colab_type": "code",
        "colab": {}
      },
      "source": [
        "pickle_out = open(\"Pickled_Data/Final/WF/np_wf_x_test.pickle\",\"wb\")\n",
        "for split in np_wf_x_test:\n",
        "  pickle.dump(split,pickle_out)\n",
        "pickle_out.close()\n"
      ],
      "execution_count": null,
      "outputs": []
    },
    {
      "cell_type": "code",
      "metadata": {
        "id": "KitJ_eOmJoUj",
        "colab_type": "code",
        "colab": {}
      },
      "source": [
        "pickle_out = open(\"Pickled_Data/Final/WF/np_wf_x_valid.pickle\",\"wb\")\n",
        "for split in np_wf_x_valid:\n",
        "  pickle.dump(split,pickle_out)\n",
        "pickle_out.close()\n",
        "\n"
      ],
      "execution_count": null,
      "outputs": []
    },
    {
      "cell_type": "markdown",
      "metadata": {
        "id": "CARXZL2wJ-ip",
        "colab_type": "text"
      },
      "source": [
        "Spectrogram"
      ]
    },
    {
      "cell_type": "code",
      "metadata": {
        "colab_type": "code",
        "id": "NKFdGoX1KClH",
        "colab": {}
      },
      "source": [
        "pickle_out = open(\"Pickled_Data/Final/SP/np_sp_x_train.pickle\",\"wb\")\n",
        "for split in np_sp_x_train:\n",
        "  pickle.dump(split,pickle_out)\n",
        "pickle_out.close()\n"
      ],
      "execution_count": null,
      "outputs": []
    },
    {
      "cell_type": "code",
      "metadata": {
        "colab_type": "code",
        "id": "nLDnZGe3KClN",
        "colab": {}
      },
      "source": [
        "pickle_out = open(\"Pickled_Data/Final/SP/np_sp_x_test.pickle\",\"wb\")\n",
        "for split in np_sp_x_test:\n",
        "  pickle.dump(split,pickle_out)\n",
        "pickle_out.close()\n"
      ],
      "execution_count": null,
      "outputs": []
    },
    {
      "cell_type": "code",
      "metadata": {
        "colab_type": "code",
        "id": "5KPcH65OKClP",
        "colab": {}
      },
      "source": [
        "pickle_out = open(\"Pickled_Data/Final/SP/np_sp_x_valid.pickle\",\"wb\")\n",
        "for split in np_sp_x_valid:\n",
        "  pickle.dump(split,pickle_out)\n",
        "pickle_out.close()\n"
      ],
      "execution_count": null,
      "outputs": []
    },
    {
      "cell_type": "markdown",
      "metadata": {
        "id": "jitNmnOMN8QL",
        "colab_type": "text"
      },
      "source": [
        "label\n"
      ]
    },
    {
      "cell_type": "code",
      "metadata": {
        "colab_type": "code",
        "id": "oYbE50BZN-jU",
        "colab": {}
      },
      "source": [
        "pickle_out = open(\"Pickled_Data/Final/np_y.pickle\",\"wb\")\n",
        "for split in np_y:\n",
        "  pickle.dump(split,pickle_out)\n",
        "pickle_out.close()"
      ],
      "execution_count": null,
      "outputs": []
    },
    {
      "cell_type": "markdown",
      "metadata": {
        "id": "p-Mh4XzEyQ1d",
        "colab_type": "text"
      },
      "source": [
        "#Alternative"
      ]
    },
    {
      "cell_type": "code",
      "metadata": {
        "id": "Iuwa63POFC33",
        "colab_type": "code",
        "colab": {}
      },
      "source": [
        "import pandas as pd\n",
        "import os\n",
        "import re\n",
        "from tqdm import tqdm\n",
        "import pickle\n",
        "import numpy as np\n",
        "import librosa\n"
      ],
      "execution_count": null,
      "outputs": []
    },
    {
      "cell_type": "code",
      "metadata": {
        "id": "OwpygbXvFGSs",
        "colab_type": "code",
        "colab": {}
      },
      "source": [
        "tracks = pd.read_csv(\"data/FMA/FMA/fma_metadata/tracks.csv\", index_col=0, header=[0, 1])\n"
      ],
      "execution_count": null,
      "outputs": []
    },
    {
      "cell_type": "code",
      "metadata": {
        "colab_type": "code",
        "id": "21qGtgolcf0b",
        "colab": {}
      },
      "source": [
        "tracksFiltered = tracks[[('set', 'split'),('set', 'subset'),('track', 'genre_top'), ('track', 'genres')]]\n",
        "isSmallData = tracksFiltered[('set', 'subset')] == 'small' "
      ],
      "execution_count": null,
      "outputs": []
    },
    {
      "cell_type": "code",
      "metadata": {
        "colab_type": "code",
        "id": "IZVWryJkcf0d",
        "colab": {}
      },
      "source": [
        "genreNamesDF = pd.read_csv(\"data/FMA/FMA/fma_metadata/genres.csv\", index_col=0, header=0)\n",
        "genreDict = genreNamesDF[\"title\"].squeeze().to_dict()"
      ],
      "execution_count": null,
      "outputs": []
    },
    {
      "cell_type": "code",
      "metadata": {
        "colab_type": "code",
        "id": "FpQ5Gpj2cf0f",
        "colab": {}
      },
      "source": [
        "filelist =[]\n",
        "y=[]\n",
        "smallDataset = tracksFiltered[isSmallData][[('set', 'split'),('set', 'subset'),('track', 'genre_top')]]\n",
        "isMp3 = re.compile(r'\\d+.mp3')\n",
        "\n",
        "id = re.compile(r'\\d+(?=.mp3)')\n",
        "\n",
        "for root, dirs, files in os.walk(\"data/FMA/FMA/fma_small\"):\n",
        "\tfor file in files:\n",
        "\t\tif isMp3.search(file):\n",
        "\t\t\tfilelist.append(file)\n",
        "\t\t\tnum = int(id.search(file).group())\n",
        "\t\t\ty.append(smallDataset.loc[num][('track', 'genre_top')])\n",
        "\t\n"
      ],
      "execution_count": null,
      "outputs": []
    },
    {
      "cell_type": "code",
      "metadata": {
        "id": "xre1mXdgQDE8",
        "colab_type": "code",
        "colab": {}
      },
      "source": [
        "file_list_out = open(\"Pickled_Data/simple_pickle/file_list.pickle\",\"wb\") \n",
        "pickle.dump(filelist,file_list_out)\n",
        "file_list_out.close()\n",
        "y_out = open(\"Pickled_Data/simple_pickle/labels.pickle\",\"wb\") \n",
        "pickle.dump(y,y_out)\n",
        "y_out.close()"
      ],
      "execution_count": null,
      "outputs": []
    },
    {
      "cell_type": "code",
      "metadata": {
        "id": "qWUKBiWyOGgU",
        "colab_type": "code",
        "colab": {}
      },
      "source": [
        "filelist =[]\n",
        "y=[]\n",
        "smallDataset = tracksFiltered[isSmallData][[('set', 'split'),('set', 'subset'),('track', 'genre_top')]]\n",
        "isMp3 = re.compile(r'\\d+.mp3')\n",
        "\n",
        "id = re.compile(r'\\d+(?=.mp3)')\n",
        "\n",
        "for root, dirs, files in os.walk(\"data/FMA/FMA/fma_small\"):\n",
        "\tfor file in files:\n",
        "\t\tif isMp3.search(file):\n",
        "\t\t\tprint(file)\n",
        "\t\t\tnum = int(id.search(file).group())\n",
        "\t\t\ti =0\n",
        "\t\t\ti =0"
      ],
      "execution_count": null,
      "outputs": []
    },
    {
      "cell_type": "code",
      "metadata": {
        "id": "no9baY8J0_AZ",
        "colab_type": "code",
        "colab": {
          "base_uri": "https://localhost:8080/",
          "height": 34
        },
        "outputId": "df476483-19d5-4c06-a76c-9ca26da21069"
      },
      "source": [
        "print(\"dumping FINAL files\")\n",
        "pickle_out = open(\"Pickled_Data/Final/SP/np_wf_x_train.pickle\",\"ab\") \n",
        "pickle.dump(np.array(wf_x_train),pickle_out)\n",
        "pickle_out.close()\n",
        "\n",
        "pickle_out = open(\"Pickled_Data/Final/SP/wf_x_test.pickle\",\"ab\") \n",
        "pickle.dump(np.array(wf_x_test),pickle_out)\n",
        "pickle_out.close()\n",
        "\n",
        "pickle_out = open(\"Pickled_Data/Final/SP/wf_x_valid.pickle\",\"ab\") \n",
        "pickle.dump(np.array(wf_x_valid),pickle_out)\n",
        "pickle_out.close()\n",
        "\n",
        "pickle_out = open(\"Pickled_Data/Final/SP/sp_x_train.pickle\",\"ab\") \n",
        "pickle.dump(np.array(sp_x_train),pickle_out)\n",
        "pickle_out.close()\n",
        "\n",
        "pickle_out = open(\"Pickled_Data/Final/SP/sp_x_test.pickle\",\"ab\") \n",
        "pickle.dump(np.array(sp_x_test),pickle_out)\n",
        "pickle_out.close()\n",
        "\n",
        "pickle_out = open(\"Pickled_Data/Final/SP/sp_x_valid.pickle\",\"ab\") \n",
        "pickle.dump(np.array(sp_x_valid),pickle_out)\n",
        "pickle_out.close()\n",
        "\n",
        "pickle_out = open(\"Pickled_Data/Final/SP/y.pickle\",\"ab\") \n",
        "pickle.dump(np.array(y),pickle_out)\n",
        "pickle_out.close()"
      ],
      "execution_count": null,
      "outputs": [
        {
          "output_type": "stream",
          "text": [
            "dumping FINAL files\n"
          ],
          "name": "stdout"
        }
      ]
    }
  ]
}