{
  "nbformat": 4,
  "nbformat_minor": 0,
  "metadata": {
    "colab": {
      "name": "SampleCNN.ipynb",
      "provenance": [],
      "collapsed_sections": []
    },
    "kernelspec": {
      "name": "python3",
      "display_name": "Python 3"
    },
    "accelerator": "GPU"
  },
  "cells": [
    {
      "cell_type": "code",
      "metadata": {
        "id": "eRXOl3qZ_gPf",
        "colab_type": "code",
        "colab": {
          "base_uri": "https://localhost:8080/",
          "height": 52
        },
        "outputId": "734d51a9-3999-4338-e2ff-fe70eba50ccd"
      },
      "source": [
        "from google.colab import drive\n",
        "drive.mount('/content/drive')\n",
        "%cd drive/My Drive/AA_PROJ_2"
      ],
      "execution_count": null,
      "outputs": [
        {
          "output_type": "stream",
          "text": [
            "Drive already mounted at /content/drive; to attempt to forcibly remount, call drive.mount(\"/content/drive\", force_remount=True).\n",
            "/content/drive/My Drive/AA_PROJ_2\n"
          ],
          "name": "stdout"
        }
      ]
    },
    {
      "cell_type": "code",
      "metadata": {
        "id": "KCDa-lErDesj",
        "colab_type": "code",
        "colab": {}
      },
      "source": [
        "import pickle\n",
        "import numpy as np\n",
        "from tensorflow.keras.callbacks import TensorBoard\n",
        "import os\n",
        "\n",
        "from os import listdir\n",
        "from os.path import isfile, join\n",
        "\n",
        "import tensorflow as tf\n",
        "from tensorflow.keras.models import Sequential,Model\n",
        "from tensorflow.keras.layers import Input,Dense, Conv1D, Dropout, MaxPooling1D, Flatten,Activation,LSTM, BatchNormalization"
      ],
      "execution_count": null,
      "outputs": []
    },
    {
      "cell_type": "code",
      "metadata": {
        "id": "tYwrvLocRCtH",
        "colab_type": "code",
        "colab": {}
      },
      "source": [
        "train_path = \"Pickled_Data/simple_pickle/npData_10sec/train\"\n",
        "valid_path = \"Pickled_Data/simple_pickle/npData_10sec/valid\""
      ],
      "execution_count": null,
      "outputs": []
    },
    {
      "cell_type": "code",
      "metadata": {
        "id": "667iQRo6j0iA",
        "colab_type": "code",
        "colab": {}
      },
      "source": [
        "dict_genres = {'Electronic':0, 'Experimental':1, 'Folk':2, 'Hip-Hop':3, \n",
        "               'Instrumental':4,'International':5, 'Pop' :6, 'Rock': 7  }\n",
        "\n",
        "print(len(dict_genres))"
      ],
      "execution_count": null,
      "outputs": []
    },
    {
      "cell_type": "markdown",
      "metadata": {
        "id": "qvUc-qaGoZd_",
        "colab_type": "text"
      },
      "source": [
        "Fast\n",
        "\n"
      ]
    },
    {
      "cell_type": "code",
      "metadata": {
        "id": "JOZw9-usUAkT",
        "colab_type": "code",
        "colab": {}
      },
      "source": [
        "from tqdm import tqdm\n",
        "X_train_np =[]\n",
        "for root, dirs, files in os.walk(\"Pickled_Data/simple_pickle/npData_10sec/train\"):\n",
        "  for file in tqdm(files):\n",
        "    X_train_np.append(np.load(os.path.join(root,file)).reshape(-1,1)[:59049])\n",
        "    "
      ],
      "execution_count": null,
      "outputs": []
    },
    {
      "cell_type": "code",
      "metadata": {
        "id": "oi4IPGKhUtN-",
        "colab_type": "code",
        "colab": {}
      },
      "source": [
        "for root, dirs, files in os.walk(\"Pickled_Data/simple_pickle/npData_10sec/train\"):\n",
        "  for file in tqdm(files):\n",
        "    X_train_np.append(np.load(os.path.join(root,file)).reshape(-1,1)[59049:59049*2])"
      ],
      "execution_count": null,
      "outputs": []
    },
    {
      "cell_type": "code",
      "metadata": {
        "id": "b---iDsdoyVh",
        "colab_type": "code",
        "colab": {}
      },
      "source": [
        "print(X_train_np[0].shape)\n",
        "X_train_np= np.array(X_train_np) \n",
        "print(X_train_np.shape)"
      ],
      "execution_count": null,
      "outputs": []
    },
    {
      "cell_type": "code",
      "metadata": {
        "id": "8gYZbPagqUn5",
        "colab_type": "code",
        "colab": {
          "base_uri": "https://localhost:8080/",
          "height": 34
        },
        "outputId": "a2f75d66-51c5-4056-bc56-1cb7db0f3231"
      },
      "source": [
        "from tqdm import tqdm\n",
        "X_test_np =[]\n",
        "\n",
        "for root, dirs, files in os.walk(\"Pickled_Data/simple_pickle/npData_10sec/test\"):\n",
        "  for file in tqdm(files):\n",
        "    X_test_np.append(np.load(os.path.join(root,file)).reshape(-1,1)[:59049])"
      ],
      "execution_count": null,
      "outputs": [
        {
          "output_type": "stream",
          "text": [
            "100%|██████████| 1599/1599 [14:08<00:00,  1.88it/s]\n"
          ],
          "name": "stderr"
        }
      ]
    },
    {
      "cell_type": "code",
      "metadata": {
        "id": "GWDp8vK8J90u",
        "colab_type": "code",
        "colab": {
          "base_uri": "https://localhost:8080/",
          "height": 52
        },
        "outputId": "8d5b894b-1fc1-4cef-b56a-939927f3ba38"
      },
      "source": [
        "print(X_test_np[0].shape)\n",
        "X_test_np= np.array(X_test_np) \n",
        "print(X_test_np.shape)"
      ],
      "execution_count": null,
      "outputs": [
        {
          "output_type": "stream",
          "text": [
            "(59049, 1)\n",
            "(1599, 59049, 1)\n"
          ],
          "name": "stdout"
        }
      ]
    },
    {
      "cell_type": "markdown",
      "metadata": {
        "id": "4OWpRPQIoeMR",
        "colab_type": "text"
      },
      "source": [
        "*slow* ????????????????????????????"
      ]
    },
    {
      "cell_type": "code",
      "metadata": {
        "id": "KgBZvxlZYpbV",
        "colab_type": "code",
        "colab": {}
      },
      "source": [
        "from tqdm import tqdm\n",
        "X_valid_np = []\n",
        "X_valid_np2 = []\n",
        "for root, dirs, files in os.walk(\"Pickled_Data/simple_pickle/npData_10sec/valid\"):\n",
        "  for file in tqdm(files):\n",
        "    X_valid_np.append(np.load(os.path.join(root,file)).reshape(-1,1)[:59049])\n",
        "    X_valid_np2.append(np.load(os.path.join(root,file)).reshape(-1,1)[59049:59049*2])"
      ],
      "execution_count": null,
      "outputs": []
    },
    {
      "cell_type": "code",
      "metadata": {
        "id": "I6UZTNm1XMFJ",
        "colab_type": "code",
        "colab": {}
      },
      "source": [
        "from tqdm import tqdm\n",
        "for root, dirs, files in os.walk(\"Pickled_Data/simple_pickle/npData_10sec/valid\"):\n",
        "  for file in tqdm(files):\n",
        "    X_valid_np.append(np.load(os.path.join(root,file)).reshape(-1,1)[59049:59049*2])"
      ],
      "execution_count": null,
      "outputs": []
    },
    {
      "cell_type": "code",
      "metadata": {
        "id": "EE9Po-ncJ5hY",
        "colab_type": "code",
        "colab": {}
      },
      "source": [
        "print(X_valid_np[0].shape)\n",
        "X_valid_np= np.array(X_valid_np) \n",
        "print(X_valid_np.shape)"
      ],
      "execution_count": null,
      "outputs": []
    },
    {
      "cell_type": "code",
      "metadata": {
        "id": "Csijv5rvKF29",
        "colab_type": "code",
        "colab": {}
      },
      "source": [
        "y_train = tf.keras.utils.to_categorical(np.vectorize(dict_genres.get)(pickle.load(open(\"Pickled_Data/simple_pickle/y_train.pickle\",\"rb\"))),num_classes=8)    \n",
        "y_valid = tf.keras.utils.to_categorical(np.vectorize(dict_genres.get)(pickle.load(open(\"Pickled_Data/simple_pickle/y_valid.pickle\",\"rb\"))),num_classes=8)  \n",
        "y_test = tf.keras.utils.to_categorical(np.vectorize(dict_genres.get)(pickle.load(open(\"Pickled_Data/simple_pickle/y_test.pickle\",\"rb\"))),num_classes=8)  "
      ],
      "execution_count": null,
      "outputs": []
    },
    {
      "cell_type": "code",
      "metadata": {
        "id": "7ok2KypGXrOf",
        "colab_type": "code",
        "colab": {}
      },
      "source": [
        "y_train_j = np.tile(y_train,(2,1))"
      ],
      "execution_count": null,
      "outputs": []
    },
    {
      "cell_type": "code",
      "metadata": {
        "id": "qfPv3u9BZLe1",
        "colab_type": "code",
        "colab": {
          "base_uri": "https://localhost:8080/",
          "height": 141
        },
        "outputId": "8c6427a5-88a8-4787-f34c-8714444f08d0"
      },
      "source": [
        "print(y_train_j)"
      ],
      "execution_count": null,
      "outputs": [
        {
          "output_type": "stream",
          "text": [
            "[[1. 0. 0. ... 0. 0. 0.]\n",
            " [0. 0. 0. ... 0. 1. 0.]\n",
            " [0. 0. 0. ... 1. 0. 0.]\n",
            " ...\n",
            " [0. 0. 0. ... 0. 1. 0.]\n",
            " [0. 0. 0. ... 0. 0. 0.]\n",
            " [0. 0. 0. ... 0. 1. 0.]]\n"
          ],
          "name": "stdout"
        }
      ]
    },
    {
      "cell_type": "code",
      "metadata": {
        "id": "MFha7sTiXwOc",
        "colab_type": "code",
        "colab": {}
      },
      "source": [
        "y_valid_j = np.tile(y_valid,(2,1))"
      ],
      "execution_count": null,
      "outputs": []
    },
    {
      "cell_type": "markdown",
      "metadata": {
        "id": "unKfUhyHocQu",
        "colab_type": "text"
      },
      "source": [
        "slow"
      ]
    },
    {
      "cell_type": "code",
      "metadata": {
        "id": "dkZhcwZXDjaR",
        "colab_type": "code",
        "colab": {}
      },
      "source": [
        "def generate_batch_train(batch_size):\n",
        "  \n",
        "  y_train = pickle.load(open(\"Pickled_Data/simple_pickle/y_train.pickle\",\"rb\"))\n",
        "\n",
        "  while True:\n",
        "    for fileBatchStart in range(0, len(X_train_files), batch_size):\n",
        "      \n",
        "      yield ([np.load(file) for file in X_train_files[fileBatchStart:(fileBatchStart + batch_size)]], \n",
        "             tf.keras.utils.to_categorical(np.vectorize(dict_genres.get)(y_train[fileBatchStart:(fileBatchStart + batch_size)]), num_classes=8))"
      ],
      "execution_count": null,
      "outputs": []
    },
    {
      "cell_type": "code",
      "metadata": {
        "id": "wb2rOegoPvWx",
        "colab_type": "code",
        "colab": {}
      },
      "source": [
        "'''\n",
        "gen = generate_batch_train(10)\n",
        "for i in range(0,1000):\n",
        "  if len(next(gen)[0]) != 10:\n",
        "    print(\"damn\")\n",
        "\n",
        "'''"
      ],
      "execution_count": null,
      "outputs": []
    },
    {
      "cell_type": "markdown",
      "metadata": {
        "id": "GnUeBAIvYvnk",
        "colab_type": "text"
      },
      "source": [
        "#NETWORK\n"
      ]
    },
    {
      "cell_type": "code",
      "metadata": {
        "id": "nuAZWaRaKCh4",
        "colab_type": "code",
        "colab": {}
      },
      "source": [
        "print(len(X_train_np ))\n",
        "print(len(X_valid_np))\n",
        "#print(len(X_test_np))\n",
        "print(\" \")\n",
        "print(len(y_train_j))\n",
        "print(len(y_valid_j))\n",
        "print(len(y_test))"
      ],
      "execution_count": null,
      "outputs": []
    },
    {
      "cell_type": "code",
      "metadata": {
        "id": "hKQ5WvVKYvNW",
        "colab_type": "code",
        "colab": {}
      },
      "source": [
        "import tensorflow as tf\n",
        "from tensorflow.keras.models import Sequential,Model\n",
        "from tensorflow.keras.layers import Input,Dense, Conv1D, Dropout, MaxPool1D, Flatten,Activation,LSTM, BatchNormalization\n",
        "from tensorflow.keras.optimizers import SGD\n",
        "\n",
        "model = Sequential()\n",
        "#1 conv 3-128 stride-3\n",
        "model.add(Conv1D(filters=128, kernel_size=3, strides=3, padding='valid',input_shape=(59049, 1)))\n",
        "model.add(BatchNormalization())\n",
        "model.add(Activation('relu'))\n",
        "model.add(MaxPool1D(pool_size=2))\n",
        "\n",
        "#2 conv 3-128 stride-1\n",
        "model.add(Conv1D(filters=128, kernel_size=3,  padding='same'))\n",
        "model.add(BatchNormalization())\n",
        "model.add(Activation('relu'))\n",
        "model.add(MaxPool1D(pool_size=2))\n",
        "\n",
        "#3 conv 3-128 stride-1\n",
        "model.add(Conv1D(filters=128, kernel_size=3,  padding='same'))\n",
        "model.add(BatchNormalization())\n",
        "model.add(Activation('relu'))\n",
        "model.add(MaxPool1D(pool_size=2))\n",
        "\n",
        "\n",
        "\n",
        "#4 conv 3-256 stride-1\n",
        "model.add(Conv1D(filters=256, kernel_size=3,padding='same'))\n",
        "model.add(BatchNormalization())\n",
        "model.add(Activation('relu'))\n",
        "model.add(MaxPool1D(pool_size=2))\n",
        "\n",
        "#5 conv 3-256 stride-1\n",
        "model.add(Conv1D(filters=256, kernel_size=3, padding='same'))\n",
        "model.add(BatchNormalization())\n",
        "model.add(Activation('relu'))\n",
        "model.add(MaxPool1D(pool_size=2))\n",
        "\n",
        "#6 conv 3-256 stride-1\n",
        "model.add(Conv1D(filters=256, kernel_size=3, padding='same'))\n",
        "model.add(BatchNormalization())\n",
        "model.add(Activation('relu'))\n",
        "model.add(MaxPool1D(pool_size=2))\n",
        "\n",
        "#7 conv 3-256 stride-1\n",
        "model.add(Conv1D(filters=256, kernel_size=3, padding='same'))\n",
        "model.add(BatchNormalization())\n",
        "model.add(Activation('relu'))\n",
        "model.add(MaxPool1D(pool_size=2))\n",
        "\n",
        "#8 conv 3-256 stride-1\n",
        "model.add(Conv1D(filters=256, kernel_size=3, padding='same'))\n",
        "model.add(BatchNormalization())\n",
        "model.add(Activation('relu'))\n",
        "model.add(MaxPool1D(pool_size=2))\n",
        "\n",
        "\n",
        "\n",
        "#8 conv 3-512 stride-1\n",
        "model.add(Conv1D(filters=512, kernel_size=3, padding='same'))\n",
        "model.add(BatchNormalization())\n",
        "model.add(Activation('relu'))\n",
        "model.add(MaxPool1D(pool_size=2))\n",
        "\n",
        "#8 conv 3-512 stride-1\n",
        "model.add(Conv1D(filters=512, kernel_size=3,  padding='same'))\n",
        "model.add(BatchNormalization())\n",
        "model.add(Activation('relu'))\n",
        "model.add(MaxPool1D(pool_size=2))\n",
        "\n",
        "#8 conv 3-512 stride-1\n",
        "model.add(Conv1D(filters=512, kernel_size=1, padding='same'))\n",
        "model.add(BatchNormalization())\n",
        "model.add(Activation('relu'))\n",
        "model.add(MaxPool1D(pool_size=2))\n",
        "\n",
        "model.add(Dropout(0.4))\n",
        "model.add(Flatten())\n",
        "model.add(Dense(64))\n",
        "model.add(Activation('relu'))\n",
        "sgd = SGD(lr=0.0004,decay=1e-6,momentum=0.9,nesterov=True)\n",
        "model.add(Dense(8,activation='sigmoid'))\n",
        "model.compile(loss='categorical_crossentropy', optimizer=sgd, metrics=['accuracy'])\n",
        "\n",
        "model.summary()"
      ],
      "execution_count": null,
      "outputs": []
    },
    {
      "cell_type": "code",
      "metadata": {
        "id": "pZiON9xmPK8d",
        "colab_type": "code",
        "colab": {}
      },
      "source": [
        "history = model.fit(X_train_np, y_train_j,\n",
        "                    batch_size=4,\n",
        "                    epochs=70,\n",
        "                    validation_data=(X_valid_np, y_valid_j))"
      ],
      "execution_count": null,
      "outputs": []
    },
    {
      "cell_type": "code",
      "metadata": {
        "id": "3w5HJ9q0RkkO",
        "colab_type": "code",
        "colab": {}
      },
      "source": [
        "import matplotlib.pyplot as plt\n",
        "def show_summary_stats(history):\n",
        "    # List all data in history\n",
        "    print(history.history.keys())\n",
        "\n",
        "    # Summarize history for accuracy\n",
        "    plt.plot(history.history['accuracy'])\n",
        "    plt.plot(history.history['val_accuracy'])\n",
        "    plt.title('model accuracy')\n",
        "    plt.ylabel('accuracy')\n",
        "    plt.xlabel('epoch')\n",
        "    plt.legend(['train', 'valid'], loc='upper left')\n",
        "    plt.show()\n",
        "\n",
        "    # Summarize history for loss\n",
        "    plt.plot(history.history['loss'])\n",
        "    plt.plot(history.history['val_loss'])\n",
        "    plt.title('model loss')\n",
        "    plt.ylabel('loss')\n",
        "    plt.xlabel('epoch')\n",
        "    plt.legend(['train', 'valid'], loc='upper left')\n",
        "    plt.show()"
      ],
      "execution_count": null,
      "outputs": []
    },
    {
      "cell_type": "code",
      "metadata": {
        "id": "q5I9i3loSMfr",
        "colab_type": "code",
        "colab": {
          "base_uri": "https://localhost:8080/",
          "height": 590
        },
        "outputId": "29cbce1f-0f2f-4a30-bf8c-7957cd455131"
      },
      "source": [
        "show_summary_stats(history)"
      ],
      "execution_count": null,
      "outputs": [
        {
          "output_type": "stream",
          "text": [
            "dict_keys(['loss', 'accuracy', 'val_loss', 'val_accuracy'])\n"
          ],
          "name": "stdout"
        },
        {
          "output_type": "display_data",
          "data": {
            "image/png": "[encoded data removed]",
            "text/plain": [
              "<Figure size 432x288 with 1 Axes>"
            ]
          },
          "metadata": {
            "tags": [],
            "needs_background": "light"
          }
        },
        {
          "output_type": "display_data",
          "data": {
            "image/png": "[encoded data removed]",
            "text/plain": [
              "<Figure size 432x288 with 1 Axes>"
            ]
          },
          "metadata": {
            "tags": [],
            "needs_background": "light"
          }
        }
      ]
    }
  ]
}