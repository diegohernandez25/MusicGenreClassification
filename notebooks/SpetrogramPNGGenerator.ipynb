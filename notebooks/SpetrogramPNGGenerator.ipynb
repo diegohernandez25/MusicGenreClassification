{
  "nbformat": 4,
  "nbformat_minor": 0,
  "metadata": {
    "colab": {
      "name": "SpetrogramPNGGenerator.ipynb",
      "provenance": [],
      "collapsed_sections": []
    },
    "kernelspec": {
      "name": "python3",
      "display_name": "Python 3"
    }
  },
  "cells": [
    {
      "cell_type": "code",
      "metadata": {
        "id": "i5P5v0rumy8N",
        "colab_type": "code",
        "colab": {
          "base_uri": "https://localhost:8080/",
          "height": 34
        },
        "outputId": "0b9fda3e-10ca-43a5-ed46-a365bc826abb"
      },
      "source": [
        "%cd drive/My Drive/AA_PROJ_2"
      ],
      "execution_count": null,
      "outputs": [
        {
          "output_type": "stream",
          "text": [
            "/content/drive/My Drive/AA_PROJ_2\n"
          ],
          "name": "stdout"
        }
      ]
    },
    {
      "cell_type": "code",
      "metadata": {
        "id": "HfFk3OpWqYLE",
        "colab_type": "code",
        "colab": {}
      },
      "source": [
        "pickle_path = \"Pickled_Data/simple_pickle\""
      ],
      "execution_count": null,
      "outputs": []
    },
    {
      "cell_type": "code",
      "metadata": {
        "id": "hcUMRMlqrlXA",
        "colab_type": "code",
        "colab": {}
      },
      "source": [
        "import librosa\n",
        "import librosa.display\n",
        "import numpy as np\n",
        "import matplotlib.pyplot as plt\n",
        "from tqdm import tqdm\n",
        "import os\n",
        "import pickle\n",
        "\n",
        "\n",
        "train_img_dir = \"data/MelSpec/train\"\n",
        "\n",
        "x_train_files = pickle.load(open(os.path.join(pickle_path,\"X_train.pickle\"),\"rb\"))\n",
        "y_train_labels = pickle.load(open(os.path.join(pickle_path,\"y_train.pickle\"),\"rb\"))\n",
        "for i in tqdm(range(0, len(x_train_files))):\n",
        "  label_path = os.path.join(train_img_dir,y_train_labels[i]);\n",
        "  if not os.path.isdir(label_path):\n",
        "    os.makedirs(label_path)\n",
        "    print(\"new directory {0}\".format(label_path))\n",
        "\n",
        "  y, sr = librosa.load(x_train_files[i]) \n",
        "  spectrogram = librosa.feature.melspectrogram(y=y, sr=sr)\n",
        "  S_dB = librosa.power_to_db(spectrogram, ref=np.max) \n",
        "  librosa.display.specshow(S_dB, sr=sr,\n",
        "                         fmax=8000)\n",
        "  plt.savefig(os.path.join(label_path,(str(i)+\".png\")))\n",
        "  plt.cla()\n",
        "  plt.clf()\n"
      ],
      "execution_count": null,
      "outputs": []
    },
    {
      "cell_type": "code",
      "metadata": {
        "colab_type": "code",
        "id": "UBhF9snuWlmg",
        "colab": {
          "base_uri": "https://localhost:8080/",
          "height": 194
        },
        "outputId": "8918ec0b-54e9-430f-f08c-c4626c8ae607"
      },
      "source": [
        "\n",
        "import librosa\n",
        "import librosa.display\n",
        "import numpy as np\n",
        "import matplotlib.pyplot as plt\n",
        "from tqdm import tqdm\n",
        "import os\n",
        "import pickle\n",
        "\n",
        "x_valid_files = pickle.load(open(os.path.join(pickle_path,\"X_val.pickle\"),\"rb\"))\n",
        "y_valid_labels = pickle.load(open(os.path.join(pickle_path,\"y_valid.pickle\"),\"rb\"))\n",
        "valid_img_dir = \"data/MelSpec/valid\"\n",
        "\n",
        "\n",
        "for i in tqdm(range(0, len(x_valid_files))):\n",
        "  label_path = os.path.join(valid_img_dir,y_valid_labels[i]);\n",
        "  if not os.path.isdir(label_path):\n",
        "    os.makedirs(label_path)\n",
        "    print(\"new directory {0}\".format(label_path))\n",
        "\n",
        "  y, sr = librosa.load(x_valid_files[i]) \n",
        "  spectrogram = librosa.feature.melspectrogram(y=y, sr=sr)\n",
        "  S_dB = librosa.power_to_db(spectrogram, ref=np.max) \n",
        "  librosa.display.specshow(S_dB, sr=sr,\n",
        "                         fmax=8000)\n",
        "  plt.savefig(os.path.join(label_path,(str(i)+\".png\")))\n",
        "  plt.cla()\n",
        "  plt.clf()\n"
      ],
      "execution_count": null,
      "outputs": [
        {
          "output_type": "stream",
          "text": [
            "\r  0%|          | 0/1599 [00:00<?, ?it/s]"
          ],
          "name": "stderr"
        },
        {
          "output_type": "stream",
          "text": [
            "new directory data/MelSpec/valid/Experimental\n"
          ],
          "name": "stdout"
        },
        {
          "output_type": "stream",
          "text": [
            "\r  0%|          | 1/1599 [00:14<6:13:37, 14.03s/it]"
          ],
          "name": "stderr"
        },
        {
          "output_type": "stream",
          "text": [
            "new directory data/MelSpec/valid/Pop\n"
          ],
          "name": "stdout"
        },
        {
          "output_type": "stream",
          "text": [
            "  0%|          | 3/1599 [00:23<4:06:33,  9.27s/it]"
          ],
          "name": "stderr"
        },
        {
          "output_type": "stream",
          "text": [
            "new directory data/MelSpec/valid/Rock\n"
          ],
          "name": "stdout"
        },
        {
          "output_type": "stream",
          "text": [
            "\r  0%|          | 4/1599 [00:26<3:17:22,  7.42s/it]"
          ],
          "name": "stderr"
        },
        {
          "output_type": "stream",
          "text": [
            "new directory data/MelSpec/valid/International\n"
          ],
          "name": "stdout"
        },
        {
          "output_type": "stream",
          "text": [
            "\r  0%|          | 5/1599 [00:30<2:49:04,  6.36s/it]"
          ],
          "name": "stderr"
        },
        {
          "output_type": "stream",
          "text": [
            "new directory data/MelSpec/valid/Hip-Hop\n"
          ],
          "name": "stdout"
        },
        {
          "output_type": "stream",
          "text": [
            "\r  0%|          | 6/1599 [00:34<2:31:14,  5.70s/it]"
          ],
          "name": "stderr"
        },
        {
          "output_type": "stream",
          "text": [
            "new directory data/MelSpec/valid/Folk\n"
          ],
          "name": "stdout"
        },
        {
          "output_type": "stream",
          "text": [
            "  1%|          | 15/1599 [01:08<1:42:54,  3.90s/it]"
          ],
          "name": "stderr"
        },
        {
          "output_type": "stream",
          "text": [
            "new directory data/MelSpec/valid/Instrumental\n"
          ],
          "name": "stdout"
        },
        {
          "output_type": "stream",
          "text": [
            "  2%|▏         | 24/1599 [01:42<1:36:20,  3.67s/it]"
          ],
          "name": "stderr"
        },
        {
          "output_type": "stream",
          "text": [
            "new directory data/MelSpec/valid/Electronic\n"
          ],
          "name": "stdout"
        },
        {
          "output_type": "stream",
          "text": [
            "100%|██████████| 1599/1599 [1:40:26<00:00,  3.77s/it]\n"
          ],
          "name": "stderr"
        },
        {
          "output_type": "display_data",
          "data": {
            "text/plain": [
              "<Figure size 432x288 with 0 Axes>"
            ]
          },
          "metadata": {
            "tags": []
          }
        }
      ]
    },
    {
      "cell_type": "code",
      "metadata": {
        "colab_type": "code",
        "id": "C8cLcdqlv_5W",
        "colab": {
          "base_uri": "https://localhost:8080/",
          "height": 194
        },
        "outputId": "cb787111-5255-4f05-fc2f-426f035f71de"
      },
      "source": [
        "import librosa\n",
        "import librosa.display\n",
        "import numpy as np\n",
        "import matplotlib.pyplot as plt\n",
        "from tqdm import tqdm\n",
        "import os\n",
        "import pickle\n",
        "\n",
        "x_test_files = pickle.load(open(os.path.join(pickle_path,\"X_test.pickle\"),\"rb\"))\n",
        "y_test_labels = pickle.load(open(os.path.join(pickle_path,\"y_test.pickle\"),\"rb\"))\n",
        "test_img_dir = \"data/MelSpec/test\"\n",
        "\n",
        "\n",
        "for i in tqdm(range(0, len(x_test_files))):\n",
        "  label_path = os.path.join(test_img_dir,y_test_labels[i]);\n",
        "  if not os.path.isdir(label_path):\n",
        "    os.makedirs(label_path)\n",
        "    print(\"new directory {0}\".format(label_path))\n",
        "\n",
        "  y, sr = librosa.load(x_test_files[i]) \n",
        "  spectrogram = librosa.feature.melspectrogram(y=y, sr=sr)\n",
        "  S_dB = librosa.power_to_db(spectrogram, ref=np.max) \n",
        "  librosa.display.specshow(S_dB, sr=sr,\n",
        "                         fmax=8000)\n",
        "  plt.savefig(os.path.join(label_path,(str(i)+\".png\")))\n",
        "  plt.cla()\n",
        "  plt.clf()\n"
      ],
      "execution_count": null,
      "outputs": [
        {
          "output_type": "stream",
          "text": [
            "\r  0%|          | 0/1599 [00:00<?, ?it/s]"
          ],
          "name": "stderr"
        },
        {
          "output_type": "stream",
          "text": [
            "new directory data/MelSpec/test/Hip-Hop\n"
          ],
          "name": "stdout"
        },
        {
          "output_type": "stream",
          "text": [
            "\r  0%|          | 1/1599 [00:03<1:43:40,  3.89s/it]"
          ],
          "name": "stderr"
        },
        {
          "output_type": "stream",
          "text": [
            "new directory data/MelSpec/test/Rock\n"
          ],
          "name": "stdout"
        },
        {
          "output_type": "stream",
          "text": [
            "\r  0%|          | 2/1599 [00:07<1:44:37,  3.93s/it]"
          ],
          "name": "stderr"
        },
        {
          "output_type": "stream",
          "text": [
            "new directory data/MelSpec/test/International\n"
          ],
          "name": "stdout"
        },
        {
          "output_type": "stream",
          "text": [
            "\r  0%|          | 3/1599 [00:11<1:40:59,  3.80s/it]"
          ],
          "name": "stderr"
        },
        {
          "output_type": "stream",
          "text": [
            "new directory data/MelSpec/test/Instrumental\n"
          ],
          "name": "stdout"
        },
        {
          "output_type": "stream",
          "text": [
            "  0%|          | 6/1599 [00:22<1:40:05,  3.77s/it]"
          ],
          "name": "stderr"
        },
        {
          "output_type": "stream",
          "text": [
            "new directory data/MelSpec/test/Pop\n"
          ],
          "name": "stdout"
        },
        {
          "output_type": "stream",
          "text": [
            "\r  0%|          | 7/1599 [00:26<1:37:54,  3.69s/it]"
          ],
          "name": "stderr"
        },
        {
          "output_type": "stream",
          "text": [
            "new directory data/MelSpec/test/Experimental\n"
          ],
          "name": "stdout"
        },
        {
          "output_type": "stream",
          "text": [
            "\r  1%|          | 8/1599 [00:29<1:36:10,  3.63s/it]"
          ],
          "name": "stderr"
        },
        {
          "output_type": "stream",
          "text": [
            "new directory data/MelSpec/test/Folk\n"
          ],
          "name": "stdout"
        },
        {
          "output_type": "stream",
          "text": [
            "  1%|          | 10/1599 [00:37<1:40:12,  3.78s/it]"
          ],
          "name": "stderr"
        },
        {
          "output_type": "stream",
          "text": [
            "new directory data/MelSpec/test/Electronic\n"
          ],
          "name": "stdout"
        },
        {
          "output_type": "stream",
          "text": [
            "100%|██████████| 1599/1599 [1:39:26<00:00,  3.73s/it]\n"
          ],
          "name": "stderr"
        },
        {
          "output_type": "display_data",
          "data": {
            "text/plain": [
              "<Figure size 432x288 with 0 Axes>"
            ]
          },
          "metadata": {
            "tags": []
          }
        }
      ]
    }
  ]
}